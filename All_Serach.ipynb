{
 "cells": [
  {
   "cell_type": "code",
   "execution_count": 26,
   "metadata": {},
   "outputs": [
    {
     "name": "stdout",
     "output_type": "stream",
     "text": [
      "5 2 0 5 7\n",
      "7 4 3 5 7\n",
      "found\n",
      "None\n"
     ]
    }
   ],
   "source": [
    "#BST Binary search tree\n",
    "\n",
    "def binarySearch(a,x,l,r):\n",
    "    if(l>r):\n",
    "        return -1\n",
    "    mid=(l+r)//2\n",
    "    print(a[mid],mid,l,r,x)\n",
    "    if x==a[mid]:\n",
    "        print('found')\n",
    "        return 7\n",
    "    elif a[mid]>x:\n",
    "        binarySearch(a,x,l,mid-1) #(,,3,5)\n",
    "    else:\n",
    "        binarySearch(a,x,mid+1,r)\n",
    "\n",
    "a=[1,4,5,6,7,8]\n",
    "\n",
    "print(binarySearch(a,7,0,len(a)-1))\n"
   ]
  }
 ],
 "metadata": {
  "interpreter": {
   "hash": "397704579725e15f5c7cb49fe5f0341eb7531c82d19f2c29d197e8b64ab5776b"
  },
  "kernelspec": {
   "display_name": "Python 3.9.5 64-bit",
   "language": "python",
   "name": "python3"
  },
  "language_info": {
   "codemirror_mode": {
    "name": "ipython",
    "version": 3
   },
   "file_extension": ".py",
   "mimetype": "text/x-python",
   "name": "python",
   "nbconvert_exporter": "python",
   "pygments_lexer": "ipython3",
   "version": "3.9.5"
  },
  "orig_nbformat": 4
 },
 "nbformat": 4,
 "nbformat_minor": 2
}
