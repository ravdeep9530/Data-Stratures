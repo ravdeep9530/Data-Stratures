{
 "cells": [
  {
   "cell_type": "code",
   "execution_count": 38,
   "metadata": {},
   "outputs": [
    {
     "name": "stdout",
     "output_type": "stream",
     "text": [
      "Found and index is 2\n"
     ]
    }
   ],
   "source": [
    "#BST Binary search tree  O(logn)\n",
    "\n",
    "def binarySearch(a,x,l,r):\n",
    "    if(l>r):\n",
    "        return -1\n",
    "    mid=(l+r)//2\n",
    "    if x==a[mid]:\n",
    "        return mid\n",
    "    elif a[mid]>x:\n",
    "        return binarySearch(a,x,l,mid-1)\n",
    "    else:\n",
    "        return binarySearch(a,x,mid+1,r)\n",
    "\n",
    "a=[1,4,5,6,7,8]\n",
    "\n",
    "result =binarySearch(a,5,0,len(a)-1)\n",
    "print('Found and index is '+  str(result) if result>-1 else 'Not found' )\n"
   ]
  }
 ],
 "metadata": {
  "interpreter": {
   "hash": "397704579725e15f5c7cb49fe5f0341eb7531c82d19f2c29d197e8b64ab5776b"
  },
  "kernelspec": {
   "display_name": "Python 3.9.5 64-bit",
   "language": "python",
   "name": "python3"
  },
  "language_info": {
   "codemirror_mode": {
    "name": "ipython",
    "version": 3
   },
   "file_extension": ".py",
   "mimetype": "text/x-python",
   "name": "python",
   "nbconvert_exporter": "python",
   "pygments_lexer": "ipython3",
   "version": "3.9.5"
  },
  "orig_nbformat": 4
 },
 "nbformat": 4,
 "nbformat_minor": 2
}
