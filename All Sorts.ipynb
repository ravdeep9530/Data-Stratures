{
 "cells": [
  {
   "cell_type": "code",
   "execution_count": 138,
   "metadata": {},
   "outputs": [
    {
     "name": "stdout",
     "output_type": "stream",
     "text": [
      "[1, 3, 5, 8, 20]\n"
     ]
    }
   ],
   "source": [
    "#insertion sort\n",
    "a=[5,3,1,8,20]\n",
    "\n",
    "for i in range(1,len(a)):\n",
    "    for j in range(len(a)):\n",
    "        if a[i]<a[j]:\n",
    "            a[j],a[i]=a[i],a[j]\n",
    "\n",
    "print(a)\n"
   ]
  },
  {
   "cell_type": "code",
   "execution_count": 139,
   "metadata": {},
   "outputs": [
    {
     "name": "stdout",
     "output_type": "stream",
     "text": [
      "10000000\n"
     ]
    }
   ],
   "source": [
    "#Merge sort\n",
    "\n",
    "import math\n",
    "import random\n",
    "\n",
    "def mergeSort(a):\n",
    "\n",
    "    lh=[]\n",
    "    rh=[]\n",
    "\n",
    "    if len(a)<2:\n",
    "        return\n",
    "\n",
    "    mid=math.floor(len(a)/2)\n",
    "\n",
    "\n",
    "    for i in range(mid):\n",
    "        lh.append(a[i])\n",
    "\n",
    "    for i in range(mid,len(a)):\n",
    "        rh.append(a[i])\n",
    "\n",
    "    mergeSort(lh)\n",
    "    mergeSort(rh)\n",
    "    merge(a,lh,rh)\n",
    "    return a\n",
    "\n",
    "\n",
    "def merge(a,lh,rh):\n",
    "    i,j,k=0,0,0\n",
    "\n",
    "    while len(lh)>i and len(rh)>j:\n",
    "        if(lh[i]<rh[j]):\n",
    "            a[k]=lh[i]\n",
    "            i+=1\n",
    "        else:\n",
    "            a[k]=rh[j]\n",
    "            j+=1\n",
    "        k+=1\n",
    "    if len(lh)>i:\n",
    "        for x in range(i,len(lh)):\n",
    "            a[k]=lh[x]\n",
    "            k+=1\n",
    "\n",
    "    if len(rh)>j:\n",
    "        for x in range(j,len(rh)):\n",
    "            a[k]=rh[x]\n",
    "            k+=1\n",
    "\n",
    "a=[]\n",
    "for k in range(10000000):\n",
    "    a.append(random.randint(k,k*4))\n",
    "mergeSort(a)\n",
    "print(len(a))\n"
   ]
  },
  {
   "cell_type": "code",
   "execution_count": 140,
   "metadata": {},
   "outputs": [
    {
     "name": "stdout",
     "output_type": "stream",
     "text": [
      "Sorted array is:\n",
      "1\n",
      "5\n",
      "7\n",
      "8\n",
      "9\n",
      "10\n"
     ]
    }
   ],
   "source": [
    "# Python program for implementation of Quicksort Sort\n",
    "\n",
    "# This function takes last element as pivot, places\n",
    "# the pivot element at its correct position in sorted\n",
    "# array, and places all smaller (smaller than pivot)\n",
    "# to left of pivot and all greater elements to right\n",
    "# of pivot\n",
    "\n",
    "\n",
    "def partition(arr, low, high):\n",
    "\ti = (low-1)\t\t # index of smaller element\n",
    "\tpivot = arr[high]\t # pivot\n",
    "\n",
    "\tfor j in range(low, high):\n",
    "\n",
    "\t\t# If current element is smaller than or\n",
    "\t\t# equal to pivot\n",
    "\t\tif arr[j] <= pivot:\n",
    "\n",
    "\t\t\t# increment index of smaller element\n",
    "\t\t\ti = i+1\n",
    "\t\t\tarr[i], arr[j] = arr[j], arr[i]\n",
    "\n",
    "\tarr[i+1], arr[high] = arr[high], arr[i+1]\n",
    "\treturn (i+1)\n",
    "\n",
    "# The main function that implements QuickSort\n",
    "# arr[] --> Array to be sorted,\n",
    "# low --> Starting index,\n",
    "# high --> Ending index\n",
    "\n",
    "# Function to do Quick sort\n",
    "\n",
    "\n",
    "def quickSort(arr, low, high):\n",
    "\tif len(arr) == 1:\n",
    "\t\treturn arr\n",
    "\tif low < high:\n",
    "\n",
    "\t\t# pi is partitioning index, arr[p] is now\n",
    "\t\t# at right place\n",
    "\t\tpi = partition(arr, low, high)\n",
    "\n",
    "\t\t# Separately sort elements before\n",
    "\t\t# partition and after partition\n",
    "\t\tquickSort(arr, low, pi-1)\n",
    "\t\tquickSort(arr, pi+1, high)\n",
    "\n",
    "\n",
    "# Driver code to test above\n",
    "arr = [10, 7, 8, 9, 1, 5]\n",
    "n = len(arr)\n",
    "quickSort(arr, 0, n-1)\n",
    "print(\"Sorted array is:\")\n",
    "for i in range(n):\n",
    "\tprint(\"%d\" % arr[i])\n",
    "\n",
    "# This code is contributed by Mohit Kumra\n",
    "#This code in improved by https://github.com/anushkrishnav\n"
   ]
  },
  {
   "cell_type": "code",
   "execution_count": 142,
   "metadata": {},
   "outputs": [
    {
     "name": "stdout",
     "output_type": "stream",
     "text": [
      "[1, 5, 7, 8, 9, 10]\n"
     ]
    }
   ],
   "source": [
    "#Bubble sort\n",
    "\n",
    "a=[10, 7, 8, 9, 1, 5]\n",
    "\n",
    "for i in range(len(a)):\n",
    "    for j in range(len(a)-1):\n",
    "        if a[j]>a[j+1]:\n",
    "            a[j],a[j+1]=a[j+1],a[j]\n",
    "\n",
    "print(a)"
   ]
  },
  {
   "cell_type": "code",
   "execution_count": 158,
   "metadata": {},
   "outputs": [
    {
     "name": "stdout",
     "output_type": "stream",
     "text": [
      "2 -> [10, 7, 8, 9, 1, 5]\n",
      "1 -> [10, 7, 8, 9, 1, 5]\n",
      "0 -> [10, 9, 8, 7, 1, 5]\n",
      "[10, 9, 8, 7, 1, 5]\n",
      "5 -> [5, 9, 8, 7, 1, 10]\n",
      "4 -> [1, 7, 8, 5, 9, 10]\n",
      "3 -> [5, 7, 1, 8, 9, 10]\n",
      "2 -> [1, 5, 7, 8, 9, 10]\n",
      "1 -> [1, 5, 7, 8, 9, 10]\n",
      "[1, 5, 7, 8, 9, 10]\n"
     ]
    }
   ],
   "source": [
    "def maxHeap(a,n,p):\n",
    "    largest=p\n",
    "    l=2*p+1\n",
    "    r=2*p+2\n",
    "\n",
    "    if l<n and a[l]>a[largest]:\n",
    "        largest=l\n",
    "    \n",
    "    if r<n and a[r]>a[largest]:\n",
    "        largest=r\n",
    "    \n",
    "    if p!=largest:\n",
    "        a[largest],a[p]=a[p],a[largest]\n",
    "        maxHeap(a,n,largest)\n",
    "\n",
    "\n",
    "a=[10, 7, 8, 9, 1, 5]\n",
    "\n",
    "#First making it max heap\n",
    "for i in range(len(a)//2-1,-1,-1):\n",
    "    print(i,'->',a)\n",
    "    maxHeap(a,len(a),i)\n",
    "\n",
    "#Sorting listing usign max_heapify algo\n",
    "for i in range(len(a)-1,0,-1):\n",
    "    a[i],a[0]=a[0],a[i]\n",
    "    print(i,'->',a)\n",
    "    maxHeap(a,i,0)\n",
    "\n",
    "print(a)"
   ]
  },
  {
   "cell_type": "code",
   "execution_count": 164,
   "metadata": {},
   "outputs": [
    {
     "name": "stdout",
     "output_type": "stream",
     "text": [
      "[0, 1, 5, 7, 8, 9, 10, 121]\n"
     ]
    }
   ],
   "source": [
    "#Selection sort\n",
    "\n",
    "a=[10, 7, 8, 9, 1, 5,0,121]\n",
    "\n",
    "for i in range(len(a)):\n",
    "    current=i\n",
    "    min=a[i]\n",
    "    for j in range(i,len(a)):\n",
    "        if a[j]<min:\n",
    "            min=a[j]\n",
    "            current=j\n",
    "    a[i],a[current]=a[current],a[i]\n",
    "\n",
    "print(a)"
   ]
  }
 ],
 "metadata": {
  "interpreter": {
   "hash": "397704579725e15f5c7cb49fe5f0341eb7531c82d19f2c29d197e8b64ab5776b"
  },
  "kernelspec": {
   "display_name": "Python 3.9.5 64-bit",
   "language": "python",
   "name": "python3"
  },
  "language_info": {
   "codemirror_mode": {
    "name": "ipython",
    "version": 3
   },
   "file_extension": ".py",
   "mimetype": "text/x-python",
   "name": "python",
   "nbconvert_exporter": "python",
   "pygments_lexer": "ipython3",
   "version": "3.9.5"
  },
  "orig_nbformat": 4
 },
 "nbformat": 4,
 "nbformat_minor": 2
}
